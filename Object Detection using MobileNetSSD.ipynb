{
 "cells": [
  {
   "cell_type": "code",
   "execution_count": 2,
   "id": "meaning-support",
   "metadata": {},
   "outputs": [],
   "source": [
    "import numpy as np\n",
    "import imutils\n",
    "import cv2\n",
    "import time"
   ]
  },
  {
   "cell_type": "code",
   "execution_count": null,
   "id": "breeding-fitting",
   "metadata": {},
   "outputs": [
    {
     "name": "stdout",
     "output_type": "stream",
     "text": [
      "Loading Model\n",
      "Model Loaded\n",
      "Starting camera feed\n"
     ]
    }
   ],
   "source": [
    "prototxt = \"MobileNetSSD_deploy.prototxt\"\n",
    "model = \"MobileNetSSD_deploy.caffemodel\"\n",
    "confThresh = 0.2\n",
    "\n",
    "CLASSES = [\"background\", \"aeroplane\", \"bicycle\", \"bird\", \"boat\", \n",
    "          \"bottle\", \"bus\", \"car\", \"cat\", \"chair\", \"cow\", \"diningtable\",\n",
    "          \"dog\", \"horse\", \"motorbike\", \"person\", \"pottedplant\", \"sheep\",\n",
    "          \"sofa\", \"train\", \"tvmonitor\"]\n",
    "\n",
    "COLORS = np.random.uniform(0, 255, size=(len(CLASSES), 3))\n",
    "\n",
    "print(\"Loading Model\")\n",
    "net = cv2.dnn.readNetFromCaffe(prototxt, model)\n",
    "print(\"Model Loaded\")\n",
    "print(\"Starting camera feed\")\n",
    "vs = cv2.VideoCapture(0)\n",
    "time.sleep(2.0)\n",
    "\n",
    "while True:\n",
    "    _,frame = vs.read()\n",
    "    frame = imutils.resize(frame, width=500)\n",
    "    (h, w) = frame.shape[:2]\n",
    "    imResize = cv2.resize(frame, (300, 300))\n",
    "    blob = cv2.dnn.blobFromImage(imResize, 0.007843, (300, 300), 127.5)\n",
    "    net.setInput(blob)\n",
    "    detections = net.forward()\n",
    "    \n",
    "    detShape = detections.shape[2]\n",
    "    for i in np.arange(0, detShape):\n",
    "        confidence = detections[0, 0, i, 2]\n",
    "        if confidence > confThresh:\n",
    "            idx = int(detections[0, 0, i, 1])\n",
    "            box = detections[0, 0, i, 3:7] * np.array([w, h, w, h])\n",
    "            (startX, startY, endX, endY) = box.astype(\"int\")\n",
    "            \n",
    "            label = \"{}: {:.2f}%\".format(CLASSES[idx],\n",
    "                                        confidence * 100)\n",
    "            cv2.rectangle(frame, (startX, startY), (endX, endY),\n",
    "                         COLORS[idx], 2)\n",
    "            if startY - 15 > 15:\n",
    "                y = startY - 15\n",
    "            else:\n",
    "                y = startY + 15\n",
    "            cv2.putText(frame, label, (startX, y),\n",
    "                       cv2.FONT_HERSHEY_SIMPLEX, 0.5, COLORS[idx], 2)\n",
    "    cv2.imshow(\"Frame\", frame)\n",
    "    key = cv2.waitKey(1)\n",
    "    if key == 27:\n",
    "        break\n",
    "vs.release()\n",
    "cv2.destroyAllWindows()"
   ]
  },
  {
   "cell_type": "code",
   "execution_count": null,
   "id": "broke-vietnam",
   "metadata": {},
   "outputs": [],
   "source": []
  }
 ],
 "metadata": {
  "kernelspec": {
   "display_name": "Python 3",
   "language": "python",
   "name": "python3"
  },
  "language_info": {
   "codemirror_mode": {
    "name": "ipython",
    "version": 3
   },
   "file_extension": ".py",
   "mimetype": "text/x-python",
   "name": "python",
   "nbconvert_exporter": "python",
   "pygments_lexer": "ipython3",
   "version": "3.8.6rc1"
  }
 },
 "nbformat": 4,
 "nbformat_minor": 5
}
